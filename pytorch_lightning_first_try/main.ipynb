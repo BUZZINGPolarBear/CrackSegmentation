{
 "cells": [
  {
   "cell_type": "markdown",
   "metadata": {},
   "source": [
    "# 1. Package 설치"
   ]
  },
  {
   "cell_type": "code",
   "execution_count": 4,
   "metadata": {},
   "outputs": [
    {
     "name": "stdout",
     "output_type": "stream",
     "text": [
      "\u001b[31mERROR: Could not find a version that satisfies the requirement torch<1.9,>=1.6 (from versions: 1.9.0, 1.10.0, 1.10.1, 1.10.2, 1.11.0, 1.12.0, 1.12.1)\u001b[0m\u001b[31m\n",
      "\u001b[0m\u001b[31mERROR: No matching distribution found for torch<1.9,>=1.6\u001b[0m\u001b[31m\n",
      "\u001b[0mCollecting pytorch-lightning\n",
      "  Using cached pytorch_lightning-1.7.7-py3-none-any.whl (708 kB)\n",
      "Requirement already satisfied: typing-extensions>=4.0.0 in /Users/joonhwi/Desktop/KAU/4-2/capstone/crack_segmentaion/venv/lib/python3.8/site-packages (from pytorch-lightning) (4.3.0)\n",
      "Requirement already satisfied: torch>=1.9.* in /Users/joonhwi/Desktop/KAU/4-2/capstone/crack_segmentaion/venv/lib/python3.8/site-packages (from pytorch-lightning) (1.12.1)\n",
      "Collecting tqdm>=4.57.0\n",
      "  Using cached tqdm-4.64.1-py2.py3-none-any.whl (78 kB)\n",
      "Requirement already satisfied: packaging>=17.0 in /Users/joonhwi/Desktop/KAU/4-2/capstone/crack_segmentaion/venv/lib/python3.8/site-packages (from pytorch-lightning) (21.3)\n",
      "Collecting fsspec[http]!=2021.06.0,>=2021.05.0\n",
      "  Using cached fsspec-2022.8.2-py3-none-any.whl (140 kB)\n",
      "Collecting tensorboard>=2.9.1\n",
      "  Using cached tensorboard-2.10.0-py3-none-any.whl (5.9 MB)\n",
      "Collecting pyDeprecate>=0.3.1\n",
      "  Using cached pyDeprecate-0.3.2-py3-none-any.whl (10 kB)\n",
      "Requirement already satisfied: numpy>=1.17.2 in /Users/joonhwi/Desktop/KAU/4-2/capstone/crack_segmentaion/venv/lib/python3.8/site-packages (from pytorch-lightning) (1.23.3)\n",
      "Collecting torchmetrics>=0.7.0\n",
      "  Using cached torchmetrics-0.9.3-py3-none-any.whl (419 kB)\n",
      "Collecting PyYAML>=5.4\n",
      "  Using cached PyYAML-6.0.tar.gz (124 kB)\n",
      "  Installing build dependencies ... \u001b[?25ldone\n",
      "\u001b[?25h  Getting requirements to build wheel ... \u001b[?25ldone\n",
      "\u001b[?25h  Preparing metadata (pyproject.toml) ... \u001b[?25ldone\n",
      "\u001b[?25hCollecting aiohttp!=4.0.0a0,!=4.0.0a1\n",
      "  Downloading aiohttp-3.8.3-cp38-cp38-macosx_11_0_arm64.whl (337 kB)\n",
      "\u001b[2K     \u001b[90m━━━━━━━━━━━━━━━━━━━━━━━━━━━━━━━━━━━━━━━\u001b[0m \u001b[32m337.4/337.4 kB\u001b[0m \u001b[31m7.8 MB/s\u001b[0m eta \u001b[36m0:00:00\u001b[0ma \u001b[36m0:00:01\u001b[0m\n",
      "\u001b[?25hCollecting requests\n",
      "  Using cached requests-2.28.1-py3-none-any.whl (62 kB)\n",
      "Requirement already satisfied: pyparsing!=3.0.5,>=2.0.2 in /Users/joonhwi/Desktop/KAU/4-2/capstone/crack_segmentaion/venv/lib/python3.8/site-packages (from packaging>=17.0->pytorch-lightning) (3.0.9)\n",
      "Requirement already satisfied: wheel>=0.26 in /Users/joonhwi/Desktop/KAU/4-2/capstone/crack_segmentaion/venv/lib/python3.8/site-packages (from tensorboard>=2.9.1->pytorch-lightning) (0.36.2)\n",
      "Collecting absl-py>=0.4\n",
      "  Using cached absl_py-1.2.0-py3-none-any.whl (123 kB)\n",
      "Collecting tensorboard-plugin-wit>=1.6.0\n",
      "  Using cached tensorboard_plugin_wit-1.8.1-py3-none-any.whl (781 kB)\n",
      "Collecting tensorboard-data-server<0.7.0,>=0.6.0\n",
      "  Using cached tensorboard_data_server-0.6.1-py3-none-any.whl (2.4 kB)\n",
      "Collecting markdown>=2.6.8\n",
      "  Using cached Markdown-3.4.1-py3-none-any.whl (93 kB)\n",
      "Collecting protobuf<3.20,>=3.9.2\n",
      "  Using cached protobuf-3.19.5-py2.py3-none-any.whl (162 kB)\n",
      "Collecting werkzeug>=1.0.1\n",
      "  Using cached Werkzeug-2.2.2-py3-none-any.whl (232 kB)\n",
      "Collecting google-auth<3,>=1.6.3\n",
      "  Using cached google_auth-2.11.1-py2.py3-none-any.whl (167 kB)\n",
      "Collecting google-auth-oauthlib<0.5,>=0.4.1\n",
      "  Using cached google_auth_oauthlib-0.4.6-py2.py3-none-any.whl (18 kB)\n",
      "Requirement already satisfied: setuptools>=41.0.0 in /Users/joonhwi/Desktop/KAU/4-2/capstone/crack_segmentaion/venv/lib/python3.8/site-packages (from tensorboard>=2.9.1->pytorch-lightning) (57.0.0)\n",
      "Collecting grpcio>=1.24.3\n",
      "  Using cached grpcio-1.49.1.tar.gz (22.1 MB)\n",
      "  Preparing metadata (setup.py) ... \u001b[?25ldone\n",
      "\u001b[?25hCollecting aiosignal>=1.1.2\n",
      "  Using cached aiosignal-1.2.0-py3-none-any.whl (8.2 kB)\n",
      "Collecting async-timeout<5.0,>=4.0.0a3\n",
      "  Using cached async_timeout-4.0.2-py3-none-any.whl (5.8 kB)\n",
      "Collecting frozenlist>=1.1.1\n",
      "  Downloading frozenlist-1.3.1-cp38-cp38-macosx_11_0_arm64.whl (35 kB)\n",
      "Collecting multidict<7.0,>=4.5\n",
      "  Downloading multidict-6.0.2-cp38-cp38-macosx_11_0_arm64.whl (29 kB)\n",
      "Collecting charset-normalizer<3.0,>=2.0\n",
      "  Using cached charset_normalizer-2.1.1-py3-none-any.whl (39 kB)\n",
      "Collecting yarl<2.0,>=1.0\n",
      "  Downloading yarl-1.8.1-cp38-cp38-macosx_11_0_arm64.whl (57 kB)\n",
      "\u001b[2K     \u001b[90m━━━━━━━━━━━━━━━━━━━━━━━━━━━━━━━━━━━━━━━━\u001b[0m \u001b[32m57.4/57.4 kB\u001b[0m \u001b[31m2.3 MB/s\u001b[0m eta \u001b[36m0:00:00\u001b[0m\n",
      "\u001b[?25hCollecting attrs>=17.3.0\n",
      "  Using cached attrs-22.1.0-py2.py3-none-any.whl (58 kB)\n",
      "Collecting cachetools<6.0,>=2.0.0\n",
      "  Using cached cachetools-5.2.0-py3-none-any.whl (9.3 kB)\n",
      "Collecting pyasn1-modules>=0.2.1\n",
      "  Using cached pyasn1_modules-0.2.8-py2.py3-none-any.whl (155 kB)\n",
      "Collecting rsa<5,>=3.1.4\n",
      "  Using cached rsa-4.9-py3-none-any.whl (34 kB)\n",
      "Requirement already satisfied: six>=1.9.0 in /Users/joonhwi/Desktop/KAU/4-2/capstone/crack_segmentaion/venv/lib/python3.8/site-packages (from google-auth<3,>=1.6.3->tensorboard>=2.9.1->pytorch-lightning) (1.16.0)\n",
      "Collecting requests-oauthlib>=0.7.0\n",
      "  Using cached requests_oauthlib-1.3.1-py2.py3-none-any.whl (23 kB)\n",
      "Collecting importlib-metadata>=4.4\n",
      "  Using cached importlib_metadata-4.12.0-py3-none-any.whl (21 kB)\n",
      "Collecting urllib3<1.27,>=1.21.1\n",
      "  Using cached urllib3-1.26.12-py2.py3-none-any.whl (140 kB)\n",
      "Collecting certifi>=2017.4.17\n",
      "  Downloading certifi-2022.9.24-py3-none-any.whl (161 kB)\n",
      "\u001b[2K     \u001b[90m━━━━━━━━━━━━━━━━━━━━━━━━━━━━━━━━━━━━━━━\u001b[0m \u001b[32m161.1/161.1 kB\u001b[0m \u001b[31m6.8 MB/s\u001b[0m eta \u001b[36m0:00:00\u001b[0m\n",
      "\u001b[?25hCollecting idna<4,>=2.5\n",
      "  Using cached idna-3.4-py3-none-any.whl (61 kB)\n",
      "Collecting MarkupSafe>=2.1.1\n",
      "  Using cached MarkupSafe-2.1.1-cp38-cp38-macosx_10_9_universal2.whl (17 kB)\n",
      "Collecting zipp>=0.5\n",
      "  Using cached zipp-3.8.1-py3-none-any.whl (5.6 kB)\n",
      "Collecting pyasn1<0.5.0,>=0.4.6\n",
      "  Using cached pyasn1-0.4.8-py2.py3-none-any.whl (77 kB)\n",
      "Collecting oauthlib>=3.0.0\n",
      "  Using cached oauthlib-3.2.1-py3-none-any.whl (151 kB)\n",
      "Building wheels for collected packages: PyYAML, grpcio\n",
      "  Building wheel for PyYAML (pyproject.toml) ... \u001b[?25ldone\n",
      "\u001b[?25h  Created wheel for PyYAML: filename=PyYAML-6.0-cp38-cp38-macosx_10_14_arm64.whl size=45338 sha256=928c54c08cec6063f2f3b6a173fb1ea0b53b410eec1a558501dc0e58d613d07a\n",
      "  Stored in directory: /Users/joonhwi/Library/Caches/pip/wheels/52/84/66/50912fd7bf1639a31758e40bd4312602e104a8eca1e0da9645\n",
      "  Building wheel for grpcio (setup.py) ... \u001b[?25ldone\n",
      "\u001b[?25h  Created wheel for grpcio: filename=grpcio-1.49.1-cp38-cp38-macosx_10_14_arm64.whl size=7903788 sha256=b09f4efa7ec1e359ee9ae7e5577e4539b2f8281bfe3b2b8026dc389c3159d88c\n",
      "  Stored in directory: /Users/joonhwi/Library/Caches/pip/wheels/ae/75/9b/1cfee21306a9993817964b0c777cbedf8a42342254986cd0e9\n",
      "Successfully built PyYAML grpcio\n",
      "Installing collected packages: tensorboard-plugin-wit, pyasn1, zipp, urllib3, tqdm, tensorboard-data-server, rsa, PyYAML, pyDeprecate, pyasn1-modules, protobuf, oauthlib, multidict, MarkupSafe, idna, grpcio, fsspec, frozenlist, charset-normalizer, certifi, cachetools, attrs, async-timeout, absl-py, yarl, werkzeug, torchmetrics, requests, importlib-metadata, google-auth, aiosignal, requests-oauthlib, markdown, aiohttp, google-auth-oauthlib, tensorboard, pytorch-lightning\n",
      "Successfully installed MarkupSafe-2.1.1 PyYAML-6.0 absl-py-1.2.0 aiohttp-3.8.3 aiosignal-1.2.0 async-timeout-4.0.2 attrs-22.1.0 cachetools-5.2.0 certifi-2022.9.24 charset-normalizer-2.1.1 frozenlist-1.3.1 fsspec-2022.8.2 google-auth-2.11.1 google-auth-oauthlib-0.4.6 grpcio-1.49.1 idna-3.4 importlib-metadata-4.12.0 markdown-3.4.1 multidict-6.0.2 oauthlib-3.2.1 protobuf-3.19.5 pyDeprecate-0.3.2 pyasn1-0.4.8 pyasn1-modules-0.2.8 pytorch-lightning-1.7.7 requests-2.28.1 requests-oauthlib-1.3.1 rsa-4.9 tensorboard-2.10.0 tensorboard-data-server-0.6.1 tensorboard-plugin-wit-1.8.1 torchmetrics-0.9.3 tqdm-4.64.1 urllib3-1.26.12 werkzeug-2.2.2 yarl-1.8.1 zipp-3.8.1\n"
     ]
    }
   ],
   "source": [
    "! pip install --quiet \"pandas\" \"torch>=1.6, <1.9\" \"torchvision\" \"ipython[notebook]\" \"seaborn\" \"pytorch-lightning>=1.4\" \"torchmetrics>=0.6\" \"lightning-bolts\"\n",
    "! pip install pytorch-lightning"
   ]
  },
  {
   "cell_type": "code",
   "execution_count": 18,
   "metadata": {},
   "outputs": [
    {
     "name": "stdout",
     "output_type": "stream",
     "text": [
      "Collecting lightning-bolts\n",
      "  Downloading lightning_bolts-0.5.0-py3-none-any.whl (316 kB)\n",
      "\u001b[2K     \u001b[90m━━━━━━━━━━━━━━━━━━━━━━━━━━━━━━━━━━━━━━━\u001b[0m \u001b[32m316.8/316.8 kB\u001b[0m \u001b[31m7.1 MB/s\u001b[0m eta \u001b[36m0:00:00\u001b[0ma \u001b[36m0:00:01\u001b[0m\n",
      "\u001b[?25hRequirement already satisfied: pytorch-lightning>=1.4.0 in /Users/joonhwi/Desktop/KAU/4-2/capstone/crack_segmentaion/venv/lib/python3.8/site-packages (from lightning-bolts) (1.7.7)\n",
      "Requirement already satisfied: packaging in /Users/joonhwi/Desktop/KAU/4-2/capstone/crack_segmentaion/venv/lib/python3.8/site-packages (from lightning-bolts) (21.3)\n",
      "Requirement already satisfied: torchmetrics>=0.4.1 in /Users/joonhwi/Desktop/KAU/4-2/capstone/crack_segmentaion/venv/lib/python3.8/site-packages (from lightning-bolts) (0.9.3)\n",
      "Requirement already satisfied: torch>=1.7.1 in /Users/joonhwi/Desktop/KAU/4-2/capstone/crack_segmentaion/venv/lib/python3.8/site-packages (from lightning-bolts) (1.12.1)\n",
      "Requirement already satisfied: pyDeprecate>=0.3.1 in /Users/joonhwi/Desktop/KAU/4-2/capstone/crack_segmentaion/venv/lib/python3.8/site-packages (from pytorch-lightning>=1.4.0->lightning-bolts) (0.3.2)\n",
      "Requirement already satisfied: PyYAML>=5.4 in /Users/joonhwi/Desktop/KAU/4-2/capstone/crack_segmentaion/venv/lib/python3.8/site-packages (from pytorch-lightning>=1.4.0->lightning-bolts) (6.0)\n",
      "Requirement already satisfied: fsspec[http]!=2021.06.0,>=2021.05.0 in /Users/joonhwi/Desktop/KAU/4-2/capstone/crack_segmentaion/venv/lib/python3.8/site-packages (from pytorch-lightning>=1.4.0->lightning-bolts) (2022.8.2)\n",
      "Requirement already satisfied: tensorboard>=2.9.1 in /Users/joonhwi/Desktop/KAU/4-2/capstone/crack_segmentaion/venv/lib/python3.8/site-packages (from pytorch-lightning>=1.4.0->lightning-bolts) (2.10.0)\n",
      "Requirement already satisfied: typing-extensions>=4.0.0 in /Users/joonhwi/Desktop/KAU/4-2/capstone/crack_segmentaion/venv/lib/python3.8/site-packages (from pytorch-lightning>=1.4.0->lightning-bolts) (4.3.0)\n",
      "Requirement already satisfied: numpy>=1.17.2 in /Users/joonhwi/Desktop/KAU/4-2/capstone/crack_segmentaion/venv/lib/python3.8/site-packages (from pytorch-lightning>=1.4.0->lightning-bolts) (1.23.3)\n",
      "Requirement already satisfied: tqdm>=4.57.0 in /Users/joonhwi/Desktop/KAU/4-2/capstone/crack_segmentaion/venv/lib/python3.8/site-packages (from pytorch-lightning>=1.4.0->lightning-bolts) (4.64.1)\n",
      "Requirement already satisfied: pyparsing!=3.0.5,>=2.0.2 in /Users/joonhwi/Desktop/KAU/4-2/capstone/crack_segmentaion/venv/lib/python3.8/site-packages (from packaging->lightning-bolts) (3.0.9)\n",
      "Requirement already satisfied: aiohttp!=4.0.0a0,!=4.0.0a1 in /Users/joonhwi/Desktop/KAU/4-2/capstone/crack_segmentaion/venv/lib/python3.8/site-packages (from fsspec[http]!=2021.06.0,>=2021.05.0->pytorch-lightning>=1.4.0->lightning-bolts) (3.8.3)\n",
      "Requirement already satisfied: requests in /Users/joonhwi/Desktop/KAU/4-2/capstone/crack_segmentaion/venv/lib/python3.8/site-packages (from fsspec[http]!=2021.06.0,>=2021.05.0->pytorch-lightning>=1.4.0->lightning-bolts) (2.28.1)\n",
      "Requirement already satisfied: setuptools>=41.0.0 in /Users/joonhwi/Desktop/KAU/4-2/capstone/crack_segmentaion/venv/lib/python3.8/site-packages (from tensorboard>=2.9.1->pytorch-lightning>=1.4.0->lightning-bolts) (57.0.0)\n",
      "Requirement already satisfied: markdown>=2.6.8 in /Users/joonhwi/Desktop/KAU/4-2/capstone/crack_segmentaion/venv/lib/python3.8/site-packages (from tensorboard>=2.9.1->pytorch-lightning>=1.4.0->lightning-bolts) (3.4.1)\n",
      "Requirement already satisfied: werkzeug>=1.0.1 in /Users/joonhwi/Desktop/KAU/4-2/capstone/crack_segmentaion/venv/lib/python3.8/site-packages (from tensorboard>=2.9.1->pytorch-lightning>=1.4.0->lightning-bolts) (2.2.2)\n",
      "Requirement already satisfied: tensorboard-data-server<0.7.0,>=0.6.0 in /Users/joonhwi/Desktop/KAU/4-2/capstone/crack_segmentaion/venv/lib/python3.8/site-packages (from tensorboard>=2.9.1->pytorch-lightning>=1.4.0->lightning-bolts) (0.6.1)\n",
      "Requirement already satisfied: grpcio>=1.24.3 in /Users/joonhwi/Desktop/KAU/4-2/capstone/crack_segmentaion/venv/lib/python3.8/site-packages (from tensorboard>=2.9.1->pytorch-lightning>=1.4.0->lightning-bolts) (1.49.1)\n",
      "Requirement already satisfied: tensorboard-plugin-wit>=1.6.0 in /Users/joonhwi/Desktop/KAU/4-2/capstone/crack_segmentaion/venv/lib/python3.8/site-packages (from tensorboard>=2.9.1->pytorch-lightning>=1.4.0->lightning-bolts) (1.8.1)\n",
      "Requirement already satisfied: google-auth-oauthlib<0.5,>=0.4.1 in /Users/joonhwi/Desktop/KAU/4-2/capstone/crack_segmentaion/venv/lib/python3.8/site-packages (from tensorboard>=2.9.1->pytorch-lightning>=1.4.0->lightning-bolts) (0.4.6)\n",
      "Requirement already satisfied: protobuf<3.20,>=3.9.2 in /Users/joonhwi/Desktop/KAU/4-2/capstone/crack_segmentaion/venv/lib/python3.8/site-packages (from tensorboard>=2.9.1->pytorch-lightning>=1.4.0->lightning-bolts) (3.19.5)\n",
      "Requirement already satisfied: google-auth<3,>=1.6.3 in /Users/joonhwi/Desktop/KAU/4-2/capstone/crack_segmentaion/venv/lib/python3.8/site-packages (from tensorboard>=2.9.1->pytorch-lightning>=1.4.0->lightning-bolts) (2.11.1)\n",
      "Requirement already satisfied: wheel>=0.26 in /Users/joonhwi/Desktop/KAU/4-2/capstone/crack_segmentaion/venv/lib/python3.8/site-packages (from tensorboard>=2.9.1->pytorch-lightning>=1.4.0->lightning-bolts) (0.36.2)\n",
      "Requirement already satisfied: absl-py>=0.4 in /Users/joonhwi/Desktop/KAU/4-2/capstone/crack_segmentaion/venv/lib/python3.8/site-packages (from tensorboard>=2.9.1->pytorch-lightning>=1.4.0->lightning-bolts) (1.2.0)\n",
      "Requirement already satisfied: aiosignal>=1.1.2 in /Users/joonhwi/Desktop/KAU/4-2/capstone/crack_segmentaion/venv/lib/python3.8/site-packages (from aiohttp!=4.0.0a0,!=4.0.0a1->fsspec[http]!=2021.06.0,>=2021.05.0->pytorch-lightning>=1.4.0->lightning-bolts) (1.2.0)\n",
      "Requirement already satisfied: frozenlist>=1.1.1 in /Users/joonhwi/Desktop/KAU/4-2/capstone/crack_segmentaion/venv/lib/python3.8/site-packages (from aiohttp!=4.0.0a0,!=4.0.0a1->fsspec[http]!=2021.06.0,>=2021.05.0->pytorch-lightning>=1.4.0->lightning-bolts) (1.3.1)\n",
      "Requirement already satisfied: yarl<2.0,>=1.0 in /Users/joonhwi/Desktop/KAU/4-2/capstone/crack_segmentaion/venv/lib/python3.8/site-packages (from aiohttp!=4.0.0a0,!=4.0.0a1->fsspec[http]!=2021.06.0,>=2021.05.0->pytorch-lightning>=1.4.0->lightning-bolts) (1.8.1)\n",
      "Requirement already satisfied: async-timeout<5.0,>=4.0.0a3 in /Users/joonhwi/Desktop/KAU/4-2/capstone/crack_segmentaion/venv/lib/python3.8/site-packages (from aiohttp!=4.0.0a0,!=4.0.0a1->fsspec[http]!=2021.06.0,>=2021.05.0->pytorch-lightning>=1.4.0->lightning-bolts) (4.0.2)\n",
      "Requirement already satisfied: multidict<7.0,>=4.5 in /Users/joonhwi/Desktop/KAU/4-2/capstone/crack_segmentaion/venv/lib/python3.8/site-packages (from aiohttp!=4.0.0a0,!=4.0.0a1->fsspec[http]!=2021.06.0,>=2021.05.0->pytorch-lightning>=1.4.0->lightning-bolts) (6.0.2)\n",
      "Requirement already satisfied: attrs>=17.3.0 in /Users/joonhwi/Desktop/KAU/4-2/capstone/crack_segmentaion/venv/lib/python3.8/site-packages (from aiohttp!=4.0.0a0,!=4.0.0a1->fsspec[http]!=2021.06.0,>=2021.05.0->pytorch-lightning>=1.4.0->lightning-bolts) (22.1.0)\n",
      "Requirement already satisfied: charset-normalizer<3.0,>=2.0 in /Users/joonhwi/Desktop/KAU/4-2/capstone/crack_segmentaion/venv/lib/python3.8/site-packages (from aiohttp!=4.0.0a0,!=4.0.0a1->fsspec[http]!=2021.06.0,>=2021.05.0->pytorch-lightning>=1.4.0->lightning-bolts) (2.1.1)\n",
      "Requirement already satisfied: cachetools<6.0,>=2.0.0 in /Users/joonhwi/Desktop/KAU/4-2/capstone/crack_segmentaion/venv/lib/python3.8/site-packages (from google-auth<3,>=1.6.3->tensorboard>=2.9.1->pytorch-lightning>=1.4.0->lightning-bolts) (5.2.0)\n",
      "Requirement already satisfied: six>=1.9.0 in /Users/joonhwi/Desktop/KAU/4-2/capstone/crack_segmentaion/venv/lib/python3.8/site-packages (from google-auth<3,>=1.6.3->tensorboard>=2.9.1->pytorch-lightning>=1.4.0->lightning-bolts) (1.16.0)\n",
      "Requirement already satisfied: rsa<5,>=3.1.4 in /Users/joonhwi/Desktop/KAU/4-2/capstone/crack_segmentaion/venv/lib/python3.8/site-packages (from google-auth<3,>=1.6.3->tensorboard>=2.9.1->pytorch-lightning>=1.4.0->lightning-bolts) (4.9)\n",
      "Requirement already satisfied: pyasn1-modules>=0.2.1 in /Users/joonhwi/Desktop/KAU/4-2/capstone/crack_segmentaion/venv/lib/python3.8/site-packages (from google-auth<3,>=1.6.3->tensorboard>=2.9.1->pytorch-lightning>=1.4.0->lightning-bolts) (0.2.8)\n",
      "Requirement already satisfied: requests-oauthlib>=0.7.0 in /Users/joonhwi/Desktop/KAU/4-2/capstone/crack_segmentaion/venv/lib/python3.8/site-packages (from google-auth-oauthlib<0.5,>=0.4.1->tensorboard>=2.9.1->pytorch-lightning>=1.4.0->lightning-bolts) (1.3.1)\n",
      "Requirement already satisfied: importlib-metadata>=4.4 in /Users/joonhwi/Desktop/KAU/4-2/capstone/crack_segmentaion/venv/lib/python3.8/site-packages (from markdown>=2.6.8->tensorboard>=2.9.1->pytorch-lightning>=1.4.0->lightning-bolts) (4.12.0)\n",
      "Requirement already satisfied: idna<4,>=2.5 in /Users/joonhwi/Desktop/KAU/4-2/capstone/crack_segmentaion/venv/lib/python3.8/site-packages (from requests->fsspec[http]!=2021.06.0,>=2021.05.0->pytorch-lightning>=1.4.0->lightning-bolts) (3.4)\n",
      "Requirement already satisfied: urllib3<1.27,>=1.21.1 in /Users/joonhwi/Desktop/KAU/4-2/capstone/crack_segmentaion/venv/lib/python3.8/site-packages (from requests->fsspec[http]!=2021.06.0,>=2021.05.0->pytorch-lightning>=1.4.0->lightning-bolts) (1.26.12)\n",
      "Requirement already satisfied: certifi>=2017.4.17 in /Users/joonhwi/Desktop/KAU/4-2/capstone/crack_segmentaion/venv/lib/python3.8/site-packages (from requests->fsspec[http]!=2021.06.0,>=2021.05.0->pytorch-lightning>=1.4.0->lightning-bolts) (2022.9.24)\n",
      "Requirement already satisfied: MarkupSafe>=2.1.1 in /Users/joonhwi/Desktop/KAU/4-2/capstone/crack_segmentaion/venv/lib/python3.8/site-packages (from werkzeug>=1.0.1->tensorboard>=2.9.1->pytorch-lightning>=1.4.0->lightning-bolts) (2.1.1)\n",
      "Requirement already satisfied: zipp>=0.5 in /Users/joonhwi/Desktop/KAU/4-2/capstone/crack_segmentaion/venv/lib/python3.8/site-packages (from importlib-metadata>=4.4->markdown>=2.6.8->tensorboard>=2.9.1->pytorch-lightning>=1.4.0->lightning-bolts) (3.8.1)\n",
      "Requirement already satisfied: pyasn1<0.5.0,>=0.4.6 in /Users/joonhwi/Desktop/KAU/4-2/capstone/crack_segmentaion/venv/lib/python3.8/site-packages (from pyasn1-modules>=0.2.1->google-auth<3,>=1.6.3->tensorboard>=2.9.1->pytorch-lightning>=1.4.0->lightning-bolts) (0.4.8)\n",
      "Requirement already satisfied: oauthlib>=3.0.0 in /Users/joonhwi/Desktop/KAU/4-2/capstone/crack_segmentaion/venv/lib/python3.8/site-packages (from requests-oauthlib>=0.7.0->google-auth-oauthlib<0.5,>=0.4.1->tensorboard>=2.9.1->pytorch-lightning>=1.4.0->lightning-bolts) (3.2.1)\n",
      "Installing collected packages: lightning-bolts\n",
      "Successfully installed lightning-bolts-0.5.0\n"
     ]
    }
   ],
   "source": [
    "#! pip install seaborn\n",
    "#! pip install torchvision\n",
    "! pip install lightning-bolts"
   ]
  },
  {
   "cell_type": "markdown",
   "metadata": {},
   "source": [
    "# 2. Initialize "
   ]
  },
  {
   "cell_type": "code",
   "execution_count": 24,
   "metadata": {},
   "outputs": [
    {
     "name": "stderr",
     "output_type": "stream",
     "text": [
      "/var/folders/9y/5kfy0x_12x925thrsg7zxykr0000gn/T/ipykernel_18771/3278709481.py:9: DeprecationWarning: Importing display from IPython.core.display is deprecated since IPython 7.14, please import from IPython display\n",
      "  from IPython.core.display import display\n",
      "Global seed set to 7\n"
     ]
    },
    {
     "name": "stdout",
     "output_type": "stream",
     "text": [
      ".\n"
     ]
    }
   ],
   "source": [
    "import os\n",
    "\n",
    "import pandas as pd\n",
    "import seaborn as sn\n",
    "import torch\n",
    "import torch.nn as nn\n",
    "import torch.nn.functional as F\n",
    "import torchvision\n",
    "from IPython.core.display import display\n",
    "from pl_bolts.datamodules import CIFAR10DataModule\n",
    "from pl_bolts.transforms.dataset_normalizations import cifar10_normalization\n",
    "from pytorch_lightning import LightningModule, Trainer, seed_everything\n",
    "from pytorch_lightning.callbacks import LearningRateMonitor\n",
    "from pytorch_lightning.callbacks.progress import TQDMProgressBar\n",
    "from pytorch_lightning.loggers import CSVLogger\n",
    "from torch.optim.lr_scheduler import OneCycleLR\n",
    "from torch.optim.swa_utils import AveragedModel, update_bn\n",
    "from torchmetrics.functional import accuracy\n",
    "\n",
    "seed_everything(7)\n",
    "\n",
    "PATH_DATASETS = os.environ.get(\"PATH_DATASETS\", \".\")\n",
    "print(PATH_DATASETS)\n",
    "BATCH_SIZE = 256 if torch.cuda.is_available() else 64\n",
    "NUM_WORKERS = int(os.cpu_count() / 2)\n"
   ]
  },
  {
   "cell_type": "code",
   "execution_count": 25,
   "metadata": {},
   "outputs": [
    {
     "ename": "TypeError",
     "evalue": "__init__() got an unexpected keyword argument 'train_transforms'",
     "output_type": "error",
     "traceback": [
      "\u001b[0;31m---------------------------------------------------------------------------\u001b[0m",
      "\u001b[0;31mTypeError\u001b[0m                                 Traceback (most recent call last)",
      "Cell \u001b[0;32mIn [25], line 17\u001b[0m\n\u001b[1;32m      1\u001b[0m train_transforms \u001b[38;5;241m=\u001b[39m torchvision\u001b[38;5;241m.\u001b[39mtransforms\u001b[38;5;241m.\u001b[39mCompose(\n\u001b[1;32m      2\u001b[0m     [\n\u001b[1;32m      3\u001b[0m         torchvision\u001b[38;5;241m.\u001b[39mtransforms\u001b[38;5;241m.\u001b[39mRandomCrop(\u001b[38;5;241m32\u001b[39m, padding\u001b[38;5;241m=\u001b[39m\u001b[38;5;241m4\u001b[39m),\n\u001b[0;32m   (...)\u001b[0m\n\u001b[1;32m      7\u001b[0m     ]\n\u001b[1;32m      8\u001b[0m )\n\u001b[1;32m     10\u001b[0m test_transforms \u001b[38;5;241m=\u001b[39m torchvision\u001b[38;5;241m.\u001b[39mtransforms\u001b[38;5;241m.\u001b[39mCompose(\n\u001b[1;32m     11\u001b[0m     [\n\u001b[1;32m     12\u001b[0m         torchvision\u001b[38;5;241m.\u001b[39mtransforms\u001b[38;5;241m.\u001b[39mToTensor(),\n\u001b[1;32m     13\u001b[0m         cifar10_normalization(),\n\u001b[1;32m     14\u001b[0m     ]\n\u001b[1;32m     15\u001b[0m )\n\u001b[0;32m---> 17\u001b[0m cifar10_dm \u001b[38;5;241m=\u001b[39m \u001b[43mCIFAR10DataModule\u001b[49m\u001b[43m(\u001b[49m\n\u001b[1;32m     18\u001b[0m \u001b[43m    \u001b[49m\u001b[43mdata_dir\u001b[49m\u001b[38;5;241;43m=\u001b[39;49m\u001b[43mPATH_DATASETS\u001b[49m\u001b[43m,\u001b[49m\n\u001b[1;32m     19\u001b[0m \u001b[43m    \u001b[49m\u001b[43mbatch_size\u001b[49m\u001b[38;5;241;43m=\u001b[39;49m\u001b[43mBATCH_SIZE\u001b[49m\u001b[43m,\u001b[49m\n\u001b[1;32m     20\u001b[0m \u001b[43m    \u001b[49m\u001b[43mnum_workers\u001b[49m\u001b[38;5;241;43m=\u001b[39;49m\u001b[43mNUM_WORKERS\u001b[49m\u001b[43m,\u001b[49m\n\u001b[1;32m     21\u001b[0m \u001b[43m    \u001b[49m\u001b[43mtrain_transforms\u001b[49m\u001b[38;5;241;43m=\u001b[39;49m\u001b[43mtrain_transforms\u001b[49m\u001b[43m,\u001b[49m\n\u001b[1;32m     22\u001b[0m \u001b[43m    \u001b[49m\u001b[43mtest_transforms\u001b[49m\u001b[38;5;241;43m=\u001b[39;49m\u001b[43mtest_transforms\u001b[49m\u001b[43m,\u001b[49m\n\u001b[1;32m     23\u001b[0m \u001b[43m    \u001b[49m\u001b[43mval_transforms\u001b[49m\u001b[38;5;241;43m=\u001b[39;49m\u001b[43mtest_transforms\u001b[49m\u001b[43m,\u001b[49m\n\u001b[1;32m     24\u001b[0m \u001b[43m)\u001b[49m\n",
      "File \u001b[0;32m~/Desktop/KAU/4-2/capstone/crack_segmentaion/venv/lib/python3.8/site-packages/pl_bolts/datamodules/cifar10_datamodule.py:89\u001b[0m, in \u001b[0;36mCIFAR10DataModule.__init__\u001b[0;34m(self, data_dir, val_split, num_workers, normalize, batch_size, seed, shuffle, pin_memory, drop_last, *args, **kwargs)\u001b[0m\n\u001b[1;32m     62\u001b[0m \u001b[39mdef\u001b[39;00m \u001b[39m__init__\u001b[39m(\n\u001b[1;32m     63\u001b[0m     \u001b[39mself\u001b[39m,\n\u001b[1;32m     64\u001b[0m     data_dir: Optional[\u001b[39mstr\u001b[39m] \u001b[39m=\u001b[39m \u001b[39mNone\u001b[39;00m,\n\u001b[0;32m   (...)\u001b[0m\n\u001b[1;32m     74\u001b[0m     \u001b[39m*\u001b[39m\u001b[39m*\u001b[39mkwargs: Any,\n\u001b[1;32m     75\u001b[0m ) \u001b[39m-\u001b[39m\u001b[39m>\u001b[39m \u001b[39mNone\u001b[39;00m:\n\u001b[1;32m     76\u001b[0m     \u001b[39m\"\"\"\u001b[39;00m\n\u001b[1;32m     77\u001b[0m \u001b[39m    Args:\u001b[39;00m\n\u001b[1;32m     78\u001b[0m \u001b[39m        data_dir: Where to save/load the data\u001b[39;00m\n\u001b[0;32m   (...)\u001b[0m\n\u001b[1;32m     87\u001b[0m \u001b[39m        drop_last: If true drops the last incomplete batch\u001b[39;00m\n\u001b[1;32m     88\u001b[0m \u001b[39m    \"\"\"\u001b[39;00m\n\u001b[0;32m---> 89\u001b[0m     \u001b[39msuper\u001b[39;49m()\u001b[39m.\u001b[39;49m\u001b[39m__init__\u001b[39;49m(  \u001b[39m# type: ignore[misc]\u001b[39;49;00m\n\u001b[1;32m     90\u001b[0m         data_dir\u001b[39m=\u001b[39;49mdata_dir,\n\u001b[1;32m     91\u001b[0m         val_split\u001b[39m=\u001b[39;49mval_split,\n\u001b[1;32m     92\u001b[0m         num_workers\u001b[39m=\u001b[39;49mnum_workers,\n\u001b[1;32m     93\u001b[0m         normalize\u001b[39m=\u001b[39;49mnormalize,\n\u001b[1;32m     94\u001b[0m         batch_size\u001b[39m=\u001b[39;49mbatch_size,\n\u001b[1;32m     95\u001b[0m         seed\u001b[39m=\u001b[39;49mseed,\n\u001b[1;32m     96\u001b[0m         shuffle\u001b[39m=\u001b[39;49mshuffle,\n\u001b[1;32m     97\u001b[0m         pin_memory\u001b[39m=\u001b[39;49mpin_memory,\n\u001b[1;32m     98\u001b[0m         drop_last\u001b[39m=\u001b[39;49mdrop_last,\n\u001b[1;32m     99\u001b[0m         \u001b[39m*\u001b[39;49margs,\n\u001b[1;32m    100\u001b[0m         \u001b[39m*\u001b[39;49m\u001b[39m*\u001b[39;49mkwargs,\n\u001b[1;32m    101\u001b[0m     )\n",
      "File \u001b[0;32m~/Desktop/KAU/4-2/capstone/crack_segmentaion/venv/lib/python3.8/site-packages/pl_bolts/datamodules/vision_datamodule.py:47\u001b[0m, in \u001b[0;36mVisionDataModule.__init__\u001b[0;34m(self, data_dir, val_split, num_workers, normalize, batch_size, seed, shuffle, pin_memory, drop_last, *args, **kwargs)\u001b[0m\n\u001b[1;32m     19\u001b[0m \u001b[39mdef\u001b[39;00m \u001b[39m__init__\u001b[39m(\n\u001b[1;32m     20\u001b[0m     \u001b[39mself\u001b[39m,\n\u001b[1;32m     21\u001b[0m     data_dir: Optional[\u001b[39mstr\u001b[39m] \u001b[39m=\u001b[39m \u001b[39mNone\u001b[39;00m,\n\u001b[0;32m   (...)\u001b[0m\n\u001b[1;32m     31\u001b[0m     \u001b[39m*\u001b[39m\u001b[39m*\u001b[39mkwargs: Any,\n\u001b[1;32m     32\u001b[0m ) \u001b[39m-\u001b[39m\u001b[39m>\u001b[39m \u001b[39mNone\u001b[39;00m:\n\u001b[1;32m     33\u001b[0m     \u001b[39m\"\"\"\u001b[39;00m\n\u001b[1;32m     34\u001b[0m \u001b[39m    Args:\u001b[39;00m\n\u001b[1;32m     35\u001b[0m \u001b[39m        data_dir: Where to save/load the data\u001b[39;00m\n\u001b[0;32m   (...)\u001b[0m\n\u001b[1;32m     44\u001b[0m \u001b[39m        drop_last: If true drops the last incomplete batch\u001b[39;00m\n\u001b[1;32m     45\u001b[0m \u001b[39m    \"\"\"\u001b[39;00m\n\u001b[0;32m---> 47\u001b[0m     \u001b[39msuper\u001b[39;49m()\u001b[39m.\u001b[39;49m\u001b[39m__init__\u001b[39;49m(\u001b[39m*\u001b[39;49margs, \u001b[39m*\u001b[39;49m\u001b[39m*\u001b[39;49mkwargs)\n\u001b[1;32m     49\u001b[0m     \u001b[39mself\u001b[39m\u001b[39m.\u001b[39mdata_dir \u001b[39m=\u001b[39m data_dir \u001b[39mif\u001b[39;00m data_dir \u001b[39mis\u001b[39;00m \u001b[39mnot\u001b[39;00m \u001b[39mNone\u001b[39;00m \u001b[39melse\u001b[39;00m os\u001b[39m.\u001b[39mgetcwd()\n\u001b[1;32m     50\u001b[0m     \u001b[39mself\u001b[39m\u001b[39m.\u001b[39mval_split \u001b[39m=\u001b[39m val_split\n",
      "\u001b[0;31mTypeError\u001b[0m: __init__() got an unexpected keyword argument 'train_transforms'"
     ]
    }
   ],
   "source": [
    "\n",
    "train_transforms = torchvision.transforms.Compose(\n",
    "    [\n",
    "        torchvision.transforms.RandomCrop(32, padding=4),\n",
    "        torchvision.transforms.RandomHorizontalFlip(),\n",
    "        torchvision.transforms.ToTensor(),\n",
    "        cifar10_normalization(),\n",
    "    ]\n",
    ")\n",
    "\n",
    "test_transforms = torchvision.transforms.Compose(\n",
    "    [\n",
    "        torchvision.transforms.ToTensor(),\n",
    "        cifar10_normalization(),\n",
    "    ]\n",
    ")\n",
    "\n",
    "cifar10_dm = CIFAR10DataModule(\n",
    "    data_dir=PATH_DATASETS,\n",
    "    batch_size=BATCH_SIZE,\n",
    "    num_workers=NUM_WORKERS,\n",
    "    train_transforms=train_transforms,\n",
    "    test_transforms=test_transforms,\n",
    "    val_transforms=test_transforms,\n",
    ")"
   ]
  }
 ],
 "metadata": {
  "kernelspec": {
   "display_name": "Python 3.8.9 ('venv': venv)",
   "language": "python",
   "name": "python3"
  },
  "language_info": {
   "codemirror_mode": {
    "name": "ipython",
    "version": 3
   },
   "file_extension": ".py",
   "mimetype": "text/x-python",
   "name": "python",
   "nbconvert_exporter": "python",
   "pygments_lexer": "ipython3",
   "version": "3.8.9"
  },
  "orig_nbformat": 4,
  "vscode": {
   "interpreter": {
    "hash": "cd9300a6f4ece537b026f5555e1cfb0290f34cb2144f98800c9536eaf54c0e3a"
   }
  }
 },
 "nbformat": 4,
 "nbformat_minor": 2
}
