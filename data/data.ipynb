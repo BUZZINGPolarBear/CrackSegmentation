{
 "cells": [
  {
   "cell_type": "code",
   "execution_count": 16,
   "metadata": {
    "collapsed": true
   },
   "outputs": [],
   "source": [
    "import os\n",
    "import cv2 as cv\n",
    "import numpy as np\n",
    "import glob\n",
    "import torch\n",
    "from torch.utils import data\n",
    "from PIL import Image\n",
    "import matplotlib.pyplot as plt"
   ]
  },
  {
   "cell_type": "code",
   "execution_count": 22,
   "metadata": {},
   "outputs": [
    {
     "name": "stdout",
     "output_type": "stream",
     "text": [
      "['/Users/joonhwi/Desktop/KAU/4-2/capstone/crack_segmentaion/data/image/seg/092.seg', '/Users/joonhwi/Desktop/KAU/4-2/capstone/crack_segmentaion/data/image/seg/086.seg', '/Users/joonhwi/Desktop/KAU/4-2/capstone/crack_segmentaion/data/image/seg/079.seg', '/Users/joonhwi/Desktop/KAU/4-2/capstone/crack_segmentaion/data/image/seg/051.seg', '/Users/joonhwi/Desktop/KAU/4-2/capstone/crack_segmentaion/data/image/seg/045.seg', '/Users/joonhwi/Desktop/KAU/4-2/capstone/crack_segmentaion/data/image/seg/118.seg', '/Users/joonhwi/Desktop/KAU/4-2/capstone/crack_segmentaion/data/image/seg/044.seg', '/Users/joonhwi/Desktop/KAU/4-2/capstone/crack_segmentaion/data/image/seg/050.seg', '/Users/joonhwi/Desktop/KAU/4-2/capstone/crack_segmentaion/data/image/seg/078.seg', '/Users/joonhwi/Desktop/KAU/4-2/capstone/crack_segmentaion/data/image/seg/087.seg', '/Users/joonhwi/Desktop/KAU/4-2/capstone/crack_segmentaion/data/image/seg/093.seg', '/Users/joonhwi/Desktop/KAU/4-2/capstone/crack_segmentaion/data/image/seg/085.seg', '/Users/joonhwi/Desktop/KAU/4-2/capstone/crack_segmentaion/data/image/seg/091.seg', '/Users/joonhwi/Desktop/KAU/4-2/capstone/crack_segmentaion/data/image/seg/046.seg', '/Users/joonhwi/Desktop/KAU/4-2/capstone/crack_segmentaion/data/image/seg/052.seg', '/Users/joonhwi/Desktop/KAU/4-2/capstone/crack_segmentaion/data/image/seg/053.seg', '/Users/joonhwi/Desktop/KAU/4-2/capstone/crack_segmentaion/data/image/seg/047.seg', '/Users/joonhwi/Desktop/KAU/4-2/capstone/crack_segmentaion/data/image/seg/090.seg', '/Users/joonhwi/Desktop/KAU/4-2/capstone/crack_segmentaion/data/image/seg/084.seg', '/Users/joonhwi/Desktop/KAU/4-2/capstone/crack_segmentaion/data/image/seg/080.seg', '/Users/joonhwi/Desktop/KAU/4-2/capstone/crack_segmentaion/data/image/seg/094.seg', '/Users/joonhwi/Desktop/KAU/4-2/capstone/crack_segmentaion/data/image/seg/043.seg', '/Users/joonhwi/Desktop/KAU/4-2/capstone/crack_segmentaion/data/image/seg/057.seg', '/Users/joonhwi/Desktop/KAU/4-2/capstone/crack_segmentaion/data/image/seg/056.seg', '/Users/joonhwi/Desktop/KAU/4-2/capstone/crack_segmentaion/data/image/seg/042.seg', '/Users/joonhwi/Desktop/KAU/4-2/capstone/crack_segmentaion/data/image/seg/095.seg', '/Users/joonhwi/Desktop/KAU/4-2/capstone/crack_segmentaion/data/image/seg/081.seg', '/Users/joonhwi/Desktop/KAU/4-2/capstone/crack_segmentaion/data/image/seg/097.seg', '/Users/joonhwi/Desktop/KAU/4-2/capstone/crack_segmentaion/data/image/seg/083.seg', '/Users/joonhwi/Desktop/KAU/4-2/capstone/crack_segmentaion/data/image/seg/054.seg', '/Users/joonhwi/Desktop/KAU/4-2/capstone/crack_segmentaion/data/image/seg/040.seg', '/Users/joonhwi/Desktop/KAU/4-2/capstone/crack_segmentaion/data/image/seg/068.seg', '/Users/joonhwi/Desktop/KAU/4-2/capstone/crack_segmentaion/data/image/seg/108.seg', '/Users/joonhwi/Desktop/KAU/4-2/capstone/crack_segmentaion/data/image/seg/109.seg', '/Users/joonhwi/Desktop/KAU/4-2/capstone/crack_segmentaion/data/image/seg/069.seg', '/Users/joonhwi/Desktop/KAU/4-2/capstone/crack_segmentaion/data/image/seg/041.seg', '/Users/joonhwi/Desktop/KAU/4-2/capstone/crack_segmentaion/data/image/seg/055.seg', '/Users/joonhwi/Desktop/KAU/4-2/capstone/crack_segmentaion/data/image/seg/082.seg', '/Users/joonhwi/Desktop/KAU/4-2/capstone/crack_segmentaion/data/image/seg/096.seg', '/Users/joonhwi/Desktop/KAU/4-2/capstone/crack_segmentaion/data/image/seg/032.seg', '/Users/joonhwi/Desktop/KAU/4-2/capstone/crack_segmentaion/data/image/seg/026.seg', '/Users/joonhwi/Desktop/KAU/4-2/capstone/crack_segmentaion/data/image/seg/027.seg', '/Users/joonhwi/Desktop/KAU/4-2/capstone/crack_segmentaion/data/image/seg/033.seg', '/Users/joonhwi/Desktop/KAU/4-2/capstone/crack_segmentaion/data/image/seg/019.seg', '/Users/joonhwi/Desktop/KAU/4-2/capstone/crack_segmentaion/data/image/seg/025.seg', '/Users/joonhwi/Desktop/KAU/4-2/capstone/crack_segmentaion/data/image/seg/031.seg', '/Users/joonhwi/Desktop/KAU/4-2/capstone/crack_segmentaion/data/image/seg/030.seg', '/Users/joonhwi/Desktop/KAU/4-2/capstone/crack_segmentaion/data/image/seg/024.seg', '/Users/joonhwi/Desktop/KAU/4-2/capstone/crack_segmentaion/data/image/seg/018.seg', '/Users/joonhwi/Desktop/KAU/4-2/capstone/crack_segmentaion/data/image/seg/020.seg', '/Users/joonhwi/Desktop/KAU/4-2/capstone/crack_segmentaion/data/image/seg/034.seg', '/Users/joonhwi/Desktop/KAU/4-2/capstone/crack_segmentaion/data/image/seg/008.seg', '/Users/joonhwi/Desktop/KAU/4-2/capstone/crack_segmentaion/data/image/seg/009.seg', '/Users/joonhwi/Desktop/KAU/4-2/capstone/crack_segmentaion/data/image/seg/035.seg', '/Users/joonhwi/Desktop/KAU/4-2/capstone/crack_segmentaion/data/image/seg/021.seg', '/Users/joonhwi/Desktop/KAU/4-2/capstone/crack_segmentaion/data/image/seg/037.seg', '/Users/joonhwi/Desktop/KAU/4-2/capstone/crack_segmentaion/data/image/seg/023.seg', '/Users/joonhwi/Desktop/KAU/4-2/capstone/crack_segmentaion/data/image/seg/022.seg', '/Users/joonhwi/Desktop/KAU/4-2/capstone/crack_segmentaion/data/image/seg/036.seg', '/Users/joonhwi/Desktop/KAU/4-2/capstone/crack_segmentaion/data/image/seg/013.seg', '/Users/joonhwi/Desktop/KAU/4-2/capstone/crack_segmentaion/data/image/seg/007.seg', '/Users/joonhwi/Desktop/KAU/4-2/capstone/crack_segmentaion/data/image/seg/006.seg', '/Users/joonhwi/Desktop/KAU/4-2/capstone/crack_segmentaion/data/image/seg/012.seg', '/Users/joonhwi/Desktop/KAU/4-2/capstone/crack_segmentaion/data/image/seg/038.seg', '/Users/joonhwi/Desktop/KAU/4-2/capstone/crack_segmentaion/data/image/seg/004.seg', '/Users/joonhwi/Desktop/KAU/4-2/capstone/crack_segmentaion/data/image/seg/010.seg', '/Users/joonhwi/Desktop/KAU/4-2/capstone/crack_segmentaion/data/image/seg/011.seg', '/Users/joonhwi/Desktop/KAU/4-2/capstone/crack_segmentaion/data/image/seg/005.seg', '/Users/joonhwi/Desktop/KAU/4-2/capstone/crack_segmentaion/data/image/seg/039.seg', '/Users/joonhwi/Desktop/KAU/4-2/capstone/crack_segmentaion/data/image/seg/001.seg', '/Users/joonhwi/Desktop/KAU/4-2/capstone/crack_segmentaion/data/image/seg/015.seg', '/Users/joonhwi/Desktop/KAU/4-2/capstone/crack_segmentaion/data/image/seg/029.seg', '/Users/joonhwi/Desktop/KAU/4-2/capstone/crack_segmentaion/data/image/seg/028.seg', '/Users/joonhwi/Desktop/KAU/4-2/capstone/crack_segmentaion/data/image/seg/014.seg', '/Users/joonhwi/Desktop/KAU/4-2/capstone/crack_segmentaion/data/image/seg/016.seg', '/Users/joonhwi/Desktop/KAU/4-2/capstone/crack_segmentaion/data/image/seg/002.seg', '/Users/joonhwi/Desktop/KAU/4-2/capstone/crack_segmentaion/data/image/seg/003.seg', '/Users/joonhwi/Desktop/KAU/4-2/capstone/crack_segmentaion/data/image/seg/017.seg', '/Users/joonhwi/Desktop/KAU/4-2/capstone/crack_segmentaion/data/image/seg/058.seg', '/Users/joonhwi/Desktop/KAU/4-2/capstone/crack_segmentaion/data/image/seg/070.seg', '/Users/joonhwi/Desktop/KAU/4-2/capstone/crack_segmentaion/data/image/seg/064.seg', '/Users/joonhwi/Desktop/KAU/4-2/capstone/crack_segmentaion/data/image/seg/104.seg', '/Users/joonhwi/Desktop/KAU/4-2/capstone/crack_segmentaion/data/image/seg/110.seg', '/Users/joonhwi/Desktop/KAU/4-2/capstone/crack_segmentaion/data/image/seg/111.seg', '/Users/joonhwi/Desktop/KAU/4-2/capstone/crack_segmentaion/data/image/seg/105.seg', '/Users/joonhwi/Desktop/KAU/4-2/capstone/crack_segmentaion/data/image/seg/065.seg', '/Users/joonhwi/Desktop/KAU/4-2/capstone/crack_segmentaion/data/image/seg/071.seg', '/Users/joonhwi/Desktop/KAU/4-2/capstone/crack_segmentaion/data/image/seg/059.seg', '/Users/joonhwi/Desktop/KAU/4-2/capstone/crack_segmentaion/data/image/seg/098.seg', '/Users/joonhwi/Desktop/KAU/4-2/capstone/crack_segmentaion/data/image/seg/067.seg', '/Users/joonhwi/Desktop/KAU/4-2/capstone/crack_segmentaion/data/image/seg/073.seg', '/Users/joonhwi/Desktop/KAU/4-2/capstone/crack_segmentaion/data/image/seg/113.seg', '/Users/joonhwi/Desktop/KAU/4-2/capstone/crack_segmentaion/data/image/seg/107.seg', '/Users/joonhwi/Desktop/KAU/4-2/capstone/crack_segmentaion/data/image/seg/106.seg', '/Users/joonhwi/Desktop/KAU/4-2/capstone/crack_segmentaion/data/image/seg/112.seg', '/Users/joonhwi/Desktop/KAU/4-2/capstone/crack_segmentaion/data/image/seg/072.seg', '/Users/joonhwi/Desktop/KAU/4-2/capstone/crack_segmentaion/data/image/seg/066.seg', '/Users/joonhwi/Desktop/KAU/4-2/capstone/crack_segmentaion/data/image/seg/099.seg', '/Users/joonhwi/Desktop/KAU/4-2/capstone/crack_segmentaion/data/image/seg/089.seg', '/Users/joonhwi/Desktop/KAU/4-2/capstone/crack_segmentaion/data/image/seg/062.seg', '/Users/joonhwi/Desktop/KAU/4-2/capstone/crack_segmentaion/data/image/seg/076.seg', '/Users/joonhwi/Desktop/KAU/4-2/capstone/crack_segmentaion/data/image/seg/116.seg', '/Users/joonhwi/Desktop/KAU/4-2/capstone/crack_segmentaion/data/image/seg/102.seg', '/Users/joonhwi/Desktop/KAU/4-2/capstone/crack_segmentaion/data/image/seg/103.seg', '/Users/joonhwi/Desktop/KAU/4-2/capstone/crack_segmentaion/data/image/seg/117.seg', '/Users/joonhwi/Desktop/KAU/4-2/capstone/crack_segmentaion/data/image/seg/077.seg', '/Users/joonhwi/Desktop/KAU/4-2/capstone/crack_segmentaion/data/image/seg/063.seg', '/Users/joonhwi/Desktop/KAU/4-2/capstone/crack_segmentaion/data/image/seg/088.seg', '/Users/joonhwi/Desktop/KAU/4-2/capstone/crack_segmentaion/data/image/seg/075.seg', '/Users/joonhwi/Desktop/KAU/4-2/capstone/crack_segmentaion/data/image/seg/061.seg', '/Users/joonhwi/Desktop/KAU/4-2/capstone/crack_segmentaion/data/image/seg/049.seg', '/Users/joonhwi/Desktop/KAU/4-2/capstone/crack_segmentaion/data/image/seg/101.seg', '/Users/joonhwi/Desktop/KAU/4-2/capstone/crack_segmentaion/data/image/seg/115.seg', '/Users/joonhwi/Desktop/KAU/4-2/capstone/crack_segmentaion/data/image/seg/114.seg', '/Users/joonhwi/Desktop/KAU/4-2/capstone/crack_segmentaion/data/image/seg/100.seg', '/Users/joonhwi/Desktop/KAU/4-2/capstone/crack_segmentaion/data/image/seg/048.seg', '/Users/joonhwi/Desktop/KAU/4-2/capstone/crack_segmentaion/data/image/seg/060.seg', '/Users/joonhwi/Desktop/KAU/4-2/capstone/crack_segmentaion/data/image/seg/074.seg']\n"
     ]
    }
   ],
   "source": [
    "def make_datapath_list(rootpath):\n",
    "    \"\"\"image와 annotation파일의 경로 리스트를 작성 \n",
    "\n",
    "    Args:\n",
    "        rootpath (_type_): 데이터폴더 경로\n",
    "    \"\"\"\n",
    "    \n",
    "    train_img_list = os.listdir(rootpath+'/image')\n",
    "    train_anno_list = os.listdir(rootpath+'/seg')\n",
    "    \n",
    "    for i in range(len(train_img_list)):\n",
    "        train_img_list[i] = rootpath + '/image/' + train_img_list[i]\n",
    "        \n",
    "    for i in range(len(train_anno_list)):\n",
    "        train_anno_list[i] = rootpath + '/seg/' + train_anno_list[i]\n",
    "    \n",
    "    return train_img_list, train_anno_list\n",
    "\n",
    "##사용        \n",
    "current_path = os.getcwd();\n",
    "img_list, anno_list = (make_datapath_list(current_path + '/image'))\n",
    "print(anno_list)"
   ]
  },
  {
   "cell_type": "code",
   "execution_count": 13,
   "metadata": {},
   "outputs": [
    {
     "ename": "IndentationError",
     "evalue": "expected an indented block (622610905.py, line 20)",
     "output_type": "error",
     "traceback": [
      "\u001b[0;36m  Cell \u001b[0;32mIn [13], line 20\u001b[0;36m\u001b[0m\n\u001b[0;31m    \u001b[0m\n\u001b[0m    ^\u001b[0m\n\u001b[0;31mIndentationError\u001b[0m\u001b[0;31m:\u001b[0m expected an indented block\n"
     ]
    }
   ],
   "source": [
    "class CrackDataSet(data.Dataset):\n",
    "    \"\"\"\n",
    "    크랙 DataSet 클래스. 파이토치의 Dataset클래스 상속\n",
    "\n",
    "    Args:\n",
    "        img_list: 학습 데이터 명\n",
    "        anno_list: annotation 데이터 명\n",
    "        type: train데이터인지, test데이터인지 설정\n",
    "    \"\"\"\n",
    "    def __init__(self, img_list, anno_list, type = 'train'):\n",
    "        self.img_list = img_list\n",
    "        self.anno_list = anno_list\n",
    "        self.type = type\n",
    "        \n",
    "    def __len__(self):\n",
    "        return len(self.file_list)\n",
    "    \n",
    "    def __getitem__(self, index):\n",
    "        data_path = self.files[index];\n",
    "        \n",
    "        \n",
    "        \n",
    "        "
   ]
  },
  {
   "cell_type": "code",
   "execution_count": 7,
   "metadata": {},
   "outputs": [
    {
     "name": "stdout",
     "output_type": "stream",
     "text": [
      "Collecting pip\n",
      "  Using cached pip-22.2.2-py3-none-any.whl (2.0 MB)\n",
      "Installing collected packages: pip\n",
      "  Attempting uninstall: pip\n",
      "    Found existing installation: pip 20.2.3\n",
      "    Uninstalling pip-20.2.3:\n",
      "      Successfully uninstalled pip-20.2.3\n",
      "Successfully installed pip-22.2.2\n",
      "Note: you may need to restart the kernel to use updated packages.\n"
     ]
    }
   ],
   "source": []
  }
 ],
 "metadata": {
  "kernelspec": {
   "display_name": "Python 3.9.1 64-bit ('3.9.1')",
   "language": "python",
   "name": "python3"
  },
  "language_info": {
   "codemirror_mode": {
    "name": "ipython",
    "version": 3
   },
   "file_extension": ".py",
   "mimetype": "text/x-python",
   "name": "python",
   "nbconvert_exporter": "python",
   "pygments_lexer": "ipython3",
   "version": "3.9.1"
  },
  "vscode": {
   "interpreter": {
    "hash": "1b5a2607b268c83f9234f72a8efd9e01dc35cb6c7bfdbeb288788ddada4de7aa"
   }
  }
 },
 "nbformat": 4,
 "nbformat_minor": 0
}
