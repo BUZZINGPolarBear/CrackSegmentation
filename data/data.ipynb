{
 "cells": [
  {
   "cell_type": "code",
   "execution_count": 16,
   "metadata": {
    "collapsed": true
   },
   "outputs": [],
   "source": [
    "import os\n",
    "import cv2 as cv\n",
    "import numpy as np\n",
    "import glob\n",
    "import torch\n",
    "from torch.utils import data\n",
    "from PIL import Image\n",
    "import matplotlib.pyplot as plt"
   ]
  },
  {
   "cell_type": "code",
   "execution_count": 12,
   "metadata": {},
   "outputs": [],
   "source": [
    "def make_datapath_list(rootpath):\n",
    "    \"\"\"image와 annotation파일의 경로 리스트를 작성 \n",
    "\n",
    "    Args:\n",
    "        rootpath (_type_): 데이터폴더 경로\n",
    "    \"\"\"\n",
    "    \n",
    "    train_img_list = os.listdir(rootpath+'/image')\n",
    "    train_anno_list = os.listdir(rootpath+'/seg')\n",
    "    \n",
    "    return train_img_list, train_anno_list\n",
    "        \n",
    "current_path = os.getcwd();\n",
    "img_list, anno_list = (make_datapath_list(current_path + '/image'))"
   ]
  },
  {
   "cell_type": "code",
   "execution_count": 13,
   "metadata": {},
   "outputs": [
    {
     "ename": "IndentationError",
     "evalue": "expected an indented block (622610905.py, line 20)",
     "output_type": "error",
     "traceback": [
      "\u001b[0;36m  Cell \u001b[0;32mIn [13], line 20\u001b[0;36m\u001b[0m\n\u001b[0;31m    \u001b[0m\n\u001b[0m    ^\u001b[0m\n\u001b[0;31mIndentationError\u001b[0m\u001b[0;31m:\u001b[0m expected an indented block\n"
     ]
    }
   ],
   "source": [
    "class CrackDataSet(data.Dataset):\n",
    "    \"\"\"\n",
    "    크랙 DataSet 클래스. 파이토치의 Dataset클래스 상속\n",
    "\n",
    "    Args:\n",
    "        data_root: 학습 데이터가 담긴 경로\n",
    "        split: train데이터인지, test데이터인지 설정\n",
    "    \"\"\"\n",
    "    def __init__(self, data_root, split = 'train'):\n",
    "        self.file_list = data_root\n",
    "        self.train_type = split\n",
    "        \n",
    "    def __len__(self):\n",
    "        return len(self.file_list)\n",
    "    \n",
    "    def __getitem__(self, index):\n",
    "        \n",
    "        \n",
    "        \n",
    "        "
   ]
  },
  {
   "cell_type": "code",
   "execution_count": 7,
   "metadata": {},
   "outputs": [
    {
     "name": "stdout",
     "output_type": "stream",
     "text": [
      "Collecting pip\n",
      "  Using cached pip-22.2.2-py3-none-any.whl (2.0 MB)\n",
      "Installing collected packages: pip\n",
      "  Attempting uninstall: pip\n",
      "    Found existing installation: pip 20.2.3\n",
      "    Uninstalling pip-20.2.3:\n",
      "      Successfully uninstalled pip-20.2.3\n",
      "Successfully installed pip-22.2.2\n",
      "Note: you may need to restart the kernel to use updated packages.\n"
     ]
    }
   ],
   "source": []
  }
 ],
 "metadata": {
  "kernelspec": {
   "display_name": "Python 3.9.1 64-bit ('3.9.1')",
   "language": "python",
   "name": "python3"
  },
  "language_info": {
   "codemirror_mode": {
    "name": "ipython",
    "version": 3
   },
   "file_extension": ".py",
   "mimetype": "text/x-python",
   "name": "python",
   "nbconvert_exporter": "python",
   "pygments_lexer": "ipython3",
   "version": "3.9.1"
  },
  "vscode": {
   "interpreter": {
    "hash": "1b5a2607b268c83f9234f72a8efd9e01dc35cb6c7bfdbeb288788ddada4de7aa"
   }
  }
 },
 "nbformat": 4,
 "nbformat_minor": 0
}
